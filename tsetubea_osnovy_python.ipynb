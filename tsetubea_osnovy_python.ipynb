{
 "cells": [
  {
   "cell_type": "code",
   "execution_count": 1,
   "metadata": {},
   "outputs": [
    {
     "data": {
      "text/plain": [
       "False"
      ]
     },
     "execution_count": 1,
     "metadata": {},
     "output_type": "execute_result"
    }
   ],
   "source": [
    "a = ('Насколько проще было бы писать программы, если бы не заказчики')\n",
    "b = ('640Кб должно хватить для любых задач. Билл Гейтс (по легенде)')\n",
    "len ('a') > len ('b')"
   ]
  },
  {
   "cell_type": "code",
   "execution_count": 1,
   "metadata": {},
   "outputs": [
    {
     "name": "stdout",
     "output_type": "stream",
     "text": [
      "Сколько байт в вашем файле? 2222222\n",
      "Объем файла равен: 2.1192760467529297 Mb\n"
     ]
    }
   ],
   "source": [
    "a = int(input('Сколько байт в вашем файле? '))\n",
    "b = a/1048576\n",
    "print('Объем файла равен:', b,'Mb')"
   ]
  },
  {
   "cell_type": "code",
   "execution_count": 2,
   "metadata": {},
   "outputs": [
    {
     "name": "stdout",
     "output_type": "stream",
     "text": [
      "Введите месяц 7\n",
      "Введите день 21\n",
      "Вы рыбы\n"
     ]
    }
   ],
   "source": [
    "month = int(input('Введите месяц '))\n",
    "day = int(input('Введите день '))\n",
    "if month == 1:\n",
    "    if day < 20:\n",
    "        print('Вы козерог')\n",
    "    else:\n",
    "        print('Вы водолей')\n",
    "if month == 2:\n",
    "    if day < 20:\n",
    "        print('Вы водолей')\n",
    "    if day > 19:\n",
    "        print('Вы рыбы')\n",
    "if month == 3: \n",
    "    if day < 21:\n",
    "        print('Вы рыбы')\n",
    "    if day > 20:\n",
    "        print('Вы овен')        \n",
    "if month == 4: \n",
    "    if day < 20:\n",
    "        print('Вы овен')\n",
    "    if day > 19:\n",
    "        print('Вы телец')\n",
    "if month == 5: \n",
    "    if day < 21:\n",
    "        print('Вы телец')\n",
    "    if day > 20:\n",
    "        print('Вы близнецы')\n",
    "if month == 6: \n",
    "    if day < 21:\n",
    "        print('Вы близнецы')\n",
    "    if day > 20:\n",
    "        print('Вы рак')\n",
    "if month == 7:\n",
    "    if day < 23:\n",
    "        print('Вы рак')\n",
    "    if day > 22:\n",
    "        print('Вы лев')\n",
    "if month == 8:\n",
    "    if day < 23:\n",
    "        print('Вы лев')\n",
    "    if day > 22:\n",
    "        print('Вы дева')\n",
    "if month == 9: \n",
    "    if day < 23:\n",
    "        print('Вы дева')\n",
    "    if day < 22:\n",
    "        print('Вы весы')\n",
    "if month == 10:\n",
    "    if day < 24:\n",
    "        print('Вы весы')\n",
    "    if day < 23:\n",
    "        print('Вы СКОРПИОН')\n",
    "if month == 11:\n",
    "    if day < 23:\n",
    "        print('Вы СКОРПИОН')\n",
    "    if day < 22:\n",
    "        print('Вы стрелец')\n",
    "if month == 12:\n",
    "    if day < 21:\n",
    "        print('Вы стрелец')\n",
    "    if day < 20:\n",
    "        print('Вы козерог')"
   ]
  },
  {
   "cell_type": "code",
   "execution_count": 3,
   "metadata": {},
   "outputs": [
    {
     "name": "stdout",
     "output_type": "stream",
     "text": [
      "Какой у вас ежемесячный доход? 120000\n",
      "Сколько премий в год вам дают? 0\n",
      "Какой процент дохода у вас уходит на ипотеку? 0\n",
      "Сколько в процентах вы тратите на жизнь? 90\n",
      "На ипотеку за год было потрачено:  0.0\n",
      "За год было накоплено:  144000.0\n"
     ]
    }
   ],
   "source": [
    "salary = int(input('Какой у вас ежемесячный доход? '))\n",
    "bonus = int(input('Сколько премий в год вам дают? '))\n",
    "mortgage = int(input('Какой процент дохода у вас уходит на ипотеку? '))\n",
    "household = int(input('Сколько в процентах вы тратите на жизнь? '))\n",
    "a = salary\n",
    "b = a * bonus\n",
    "c = (a*12)+b\n",
    "d = (c*mortgage)/100\n",
    "e = (c * household)/100\n",
    "f = c-d-e\n",
    "print('На ипотеку за год было потрачено: ', d) \n",
    "print('За год было накоплено: ', f)"
   ]
  }
 ],
 "metadata": {
  "kernelspec": {
   "display_name": "Python 3",
   "language": "python",
   "name": "python3"
  },
  "language_info": {
   "codemirror_mode": {
    "name": "ipython",
    "version": 3
   },
   "file_extension": ".py",
   "mimetype": "text/x-python",
   "name": "python",
   "nbconvert_exporter": "python",
   "pygments_lexer": "ipython3",
   "version": "3.7.6"
  }
 },
 "nbformat": 4,
 "nbformat_minor": 4
}
